{
 "cells": [
  {
   "cell_type": "markdown",
   "metadata": {},
   "source": [
    "# Coding Challenges"
   ]
  },
  {
   "cell_type": "markdown",
   "metadata": {},
   "source": [
    "<hr>"
   ]
  },
  {
   "cell_type": "markdown",
   "metadata": {},
   "source": [
    "## Fizz Buzz\n",
    "\n",
    "We will start off with the infamous Fizz buzz challenge. This challenge has been used frequently in the\n",
    "past as an initial coding challenge to filter out people who cannot write a simple solution. The general\n",
    "problem is:\n",
    "\n",
    "*Print out all the numbers from 1 to 100. But for every number divisible by 3 print replace it with the\n",
    "word “Fizz,” for any number divisible by 5 replace it with the word “Buzz” and for a number divisible\n",
    "by both 3 and 5 replace it with the word “FizzBuzz.”\n",
    "So your program should output:*\n",
    "\n",
    "    1\n",
    "    2\n",
    "    Fizz\n",
    "    4\n",
    "    Buzz\n",
    "    Fizz\n",
    "    7\n",
    "    .\n",
    "    .\n",
    "    .\n"
   ]
  },
  {
   "cell_type": "code",
   "execution_count": null,
   "metadata": {
    "collapsed": true
   },
   "outputs": [],
   "source": [
    "# Code here"
   ]
  },
  {
   "cell_type": "markdown",
   "metadata": {},
   "source": [
    "## Solution\n",
    "\n",
    "Let us examine how we can solve this problem. The first thing we notice is that we will definitely need\n",
    "to write a loop because the problem asks us to print numbers within a range. Then we need to check\n",
    "every number we encounter whether it is divisible by 3, 5, or 3 and 5. This means we’ll most likely\n",
    "need at least 3 conditional statements. To check if a number is divisible by some number X we will be\n",
    "using the modulo operator. Then we need to either directly print the numbers, or we can store all\n",
    "of the numbers in an array and then return the final array. Below is a sample solution with some comments:"
   ]
  },
  {
   "cell_type": "code",
   "execution_count": null,
   "metadata": {
    "collapsed": true
   },
   "outputs": [],
   "source": [
    "def fizzbuzz(n):\n",
    "\n",
    "    # we will store the resulting numbers within an array\n",
    "    result = []\n",
    "\n",
    "    # loop from 1 to n\n",
    "    for i in range(1, n + 1):\n",
    "    \n",
    "        add = ''\n",
    "\n",
    "        # check if there is a remainder when dividing by 3, if not\n",
    "        # then we know this number is divisible by 3\n",
    "        if i % 3 == 0:\n",
    "            add += 'Fizz'\n",
    "\n",
    "        # check if divisible by 5\n",
    "        if i % 5 == 0:\n",
    "            add += 'Buzz'\n",
    "\n",
    "        # not divisible by either 3 or 5\n",
    "        if add == '':\n",
    "            result.append(i)\n",
    "        else:\n",
    "            result.append(add)\n",
    "\n",
    "    return result"
   ]
  },
  {
   "cell_type": "markdown",
   "metadata": {},
   "source": [
    "# Two Sum Problem"
   ]
  },
  {
   "cell_type": "markdown",
   "metadata": {},
   "source": [
    "The two sum problem is a classic coding interview question asked at both coding bootcamps and job\n",
    "interviews. The problem is as follows:\n",
    "\n",
    "*You are given an array and some number S. Determine if any two numbers within the array sum to S.*"
   ]
  },
  {
   "cell_type": "code",
   "execution_count": null,
   "metadata": {
    "collapsed": true
   },
   "outputs": [],
   "source": [
    "# Code here"
   ]
  },
  {
   "cell_type": "markdown",
   "metadata": {},
   "source": [
    "## Solution\n",
    "\n",
    "We’ll first cover the most intuitive way to solve this problem. That is to simply loop through the array\n",
    "and for each element check if there is a second element that when both are summed are equal to S.\n",
    "This will require us to write a nested loop. "
   ]
  },
  {
   "cell_type": "code",
   "execution_count": null,
   "metadata": {},
   "outputs": [],
   "source": [
    "# our two sum function which will return\n",
    "# all pairs in the list that sum up to S\n",
    "def twoSum(arr, S):\n",
    "\n",
    "    sums = []\n",
    "\n",
    "    # check each element in array\n",
    "    for i in range(0, len(arr)):\n",
    "\n",
    "        # check each other element in the array\n",
    "        for j in range(i+1, len(arr)):\n",
    "\n",
    "            # determine if these two elements sum to S\n",
    "            if (arr[i] + arr[j] == S):\n",
    "                sums.append([arr[i], arr[j]])\n",
    "\n",
    "    # return all pairs of integers that sum to S\n",
    "    return sums\n",
    "\n",
    "print(twoSum([3, 5, 2, -4, 8, 11], 7))"
   ]
  },
  {
   "cell_type": "markdown",
   "metadata": {},
   "source": [
    "This solution will run in O(n2) time though because of the\n",
    "nested loop. We can actually do better and write an algorithm that runs only in O(n) time but uses\n",
    "some extra space. \n",
    "\n",
    "We will use a hash table (or dictionary) where insertion and lookup run in constant O(1) time. As we loop through\n",
    "the array we add each element into a hash table. Then we check to see if S minus the current\n",
    "elements exists in the hash table as we are looping."
   ]
  },
  {
   "cell_type": "code",
   "execution_count": null,
   "metadata": {
    "collapsed": true
   },
   "outputs": [],
   "source": [
    "def twoSum(arr, S):\n",
    "    \n",
    "    hashTable = {}\n",
    "\n",
    "    # check each element in array\n",
    "    for i in range(0, len(arr)):\n",
    "\n",
    "        # calculate S minus current element\n",
    "        sumMinusElement = S - arr[i]\n",
    "\n",
    "        # check if this number exists in hash table\n",
    "        if sumMinusElement in hashTable:\n",
    "            return True\n",
    "\n",
    "        # add the current number to the hash table\n",
    "        hashTable[arr[i]] = True\n",
    "\n",
    "    return False"
   ]
  },
  {
   "cell_type": "markdown",
   "metadata": {},
   "source": [
    "# Calculate the Sum of Nested Array"
   ]
  },
  {
   "cell_type": "markdown",
   "metadata": {},
   "source": [
    "This problem asks you to sum up all of the numbers within an array, but the array may also contains\n",
    "other arrays with numbers. This is what we call a nested array. For example:\n",
    "\n",
    "    [1, 1, 1, [3, 4, [8]], [5]]\n",
    "\n",
    "is a nested array and summing all the elements should produce 23."
   ]
  },
  {
   "cell_type": "code",
   "execution_count": null,
   "metadata": {
    "collapsed": true
   },
   "outputs": [],
   "source": []
  },
  {
   "cell_type": "markdown",
   "metadata": {},
   "source": [
    "## Solution \n",
    "\n",
    "We will solve this problem by implementing a recursive function where if an array is encountered within an array, we simply sum all of the inner arrays elements and then add that to the final result. The algorithm below simply loops through the entire array, and if a nested array is encounterd, it loops through all of its elements as well. The running time of this algorithm is therefore O(n) where n is the length of the entire list of elements."
   ]
  },
  {
   "cell_type": "code",
   "execution_count": null,
   "metadata": {
    "collapsed": true
   },
   "outputs": [],
   "source": [
    "def sumNested(arr):\n",
    "\n",
    "    result = 0\n",
    "    \n",
    "    # sum up all the numbers in array\n",
    "    for i in range(0, len(arr)):\n",
    "    \n",
    "        # if element is a nested array, sum all of its elements\n",
    "        if type(arr[i]) is not int:\n",
    "            result += sumNested(arr[i])\n",
    "        else:\n",
    "            result += arr[i]\n",
    "\n",
    "    return result"
   ]
  },
  {
   "cell_type": "markdown",
   "metadata": {},
   "source": [
    "# Calculate the Angle on a Clock"
   ]
  },
  {
   "cell_type": "markdown",
   "metadata": {},
   "source": [
    "This problem asks you to determine the angle between the to hands on a clock. For example, if the\n",
    "minute hand is on the 3 and the hour hand is on the 12, then this forms a 90 degree angle. If the hour\n",
    "hand is slightly past the 2 and the minute hand is on the 4, then the angle formed between the hands\n",
    "is 50 degrees. Check out the [wiki article](https://en.wikipedia.org/wiki/Clock_angle_problem) for a more detailed description."
   ]
  },
  {
   "cell_type": "code",
   "execution_count": null,
   "metadata": {
    "collapsed": true
   },
   "outputs": [],
   "source": []
  },
  {
   "cell_type": "markdown",
   "metadata": {},
   "source": [
    "## Solution \n",
    "\n",
    "We will solve this problem by first calculating the angles for the hour hand and minute hand\n",
    "separately. The minute hand is the easiest and that is simply:\n",
    "\n",
    "    Minute hand angle = 6 * minutes\n",
    "\n",
    "because there are 360 degrees total on the clock and there are a total of 60 minutes, so 360 / 60 = 6\n",
    "degrees per minute. The hour hand is a bit trickier because it moves slightly every time the minute\n",
    "hand moves. Therefore, to calculate the angle of the hour hand we need to take into account how\n",
    "much the minute hand has moved.\n",
    "\n",
    "First, we can perform the same calculcation we did above but with different values. The hour hand\n",
    "moves around the entire clock after 12 hours, of 720 minutes, which gives us 360 / 720 = 0.5 per\n",
    "minute. We also need to account for how much the minute hand has moved. The full equation is\n",
    "below:\n",
    "\n",
    "    Hour hand angle = 0.5 * change in minutes = 0.5 * (60 * hour + minutes)\n",
    "\n",
    "The angle between these two hands will therefore be the absolute value of the hour hand angle\n",
    "minus the minute hand angle. But one caveat, and that is if the number is greater than 180 degrees\n",
    "we actually need to subtract the value from 360 because the hands are on the opposite side of the\n",
    "clock."
   ]
  },
  {
   "cell_type": "code",
   "execution_count": null,
   "metadata": {
    "collapsed": true
   },
   "outputs": [],
   "source": [
    "def clockAngle(hour, mins):\n",
    "\n",
    "    h = 0.5 * (60 * hour + mins)\n",
    "    m = 6 * mins\n",
    "    angle = abs(h - m)\n",
    "    \n",
    "    if angle > 180:\n",
    "        return 360 - angle\n",
    "    else:\n",
    "        return angle"
   ]
  },
  {
   "cell_type": "markdown",
   "metadata": {},
   "source": [
    "# Determine if N is a Prime Number"
   ]
  },
  {
   "cell_type": "markdown",
   "metadata": {},
   "source": [
    "This is a classic coding questins that asks you to write a program to determine whether or not some\n",
    "input N is a prime number. A prime number is a number that is divisible only by 1 and itself. The first\n",
    "few prime numbers are: 2, 3, 5, 7, 11, 17, …"
   ]
  },
  {
   "cell_type": "code",
   "execution_count": null,
   "metadata": {
    "collapsed": true
   },
   "outputs": [],
   "source": []
  },
  {
   "cell_type": "markdown",
   "metadata": {},
   "source": [
    "## Solution\n",
    "\n",
    "The simplest way to solve this challenge is to first see that the only way for a number to be a\n",
    "prime is for it to have no divisors between 2 and itself. For example, to check if 9 is prime you would\n",
    "check if 9 is divisible by 2, if 9 is divisible by 3, etc. To check if a number is exactly divisible by some\n",
    "other number we are going to using the modulo operation to see if there is a remainder after the\n",
    "divison. For example, 9 modulo 2 gives us 1, but then 9 % 3 is 0 so we know that 9 is not a prime\n",
    "number because it is divisble by 3.\n",
    "\n",
    "The solution for this problem would therefore be structured the following way: Write a loop\n",
    "from 2 to N to check if (N modulo x), where x is every number we are checking, is equal to 0. If so,\n",
    "then the number is prime, otherwise it is not. But there is a tiny detail we can implement to make the\n",
    "algorithm run a bit faster. The detail is that if N is not a prime number, then there are two numbers\n",
    "when multipled give N: a * b = N. The detail is that one of the numbers, a or b, will always be less\n",
    "than the square root of N.[1] With this detail in mind, we don’t need to loop from 2 to N now, we can\n",
    "simply loop from 2 to the square root of N. The running time will therefore be O(√n)."
   ]
  },
  {
   "cell_type": "code",
   "execution_count": null,
   "metadata": {
    "collapsed": true
   },
   "outputs": [],
   "source": [
    "import math\n",
    "\n",
    "def isprime(n):\n",
    "\n",
    "    # all numbers less than 2 are not primes\n",
    "    if n < 2:\n",
    "        return False\n",
    "\n",
    "    # loop from 2 to sqrt(n)\n",
    "    for i in range(2, int(math.ceil(math.sqrt(n)))):\n",
    "    \n",
    "        # check if (n mod i) is equal to 0, if so then there are\n",
    "        # two numbers, a and b, that can multiply to give n\n",
    "        if n % i == 0:\n",
    "            return False\n",
    "\n",
    "    return True"
   ]
  },
  {
   "cell_type": "markdown",
   "metadata": {},
   "source": [
    "# Implement Map and Filter"
   ]
  },
  {
   "cell_type": "markdown",
   "metadata": {},
   "source": [
    "Map and filter are common functional programming methods that you’ve most likely used when\n",
    "coding. They are both functions that take in a list, perform some operation on that list without\n",
    "changing the original list, and then return a new lists. The functions do not change any other variables\n",
    "and do not touch anything else except those lists they were given. JavaScript, Python, and Ruby all\n",
    "have their own built-in versions of these functions, but we are going to impement our own.\n",
    "\n",
    "**Map** works by taking a list and a function, and it applies the function to each element in the list and\n",
    "returns a new list. For example, you may want to square every number in an array or append a string\n",
    "to every element in an array. We want an implementation where we can pass in two parameters, one\n",
    "being the array and the second being some function that will be mapped onto every element.\n",
    "\n",
    "**Filter** works by taking a list and a conditional statement, and it returns a new list where every\n",
    "element in the original list passes the conditional (returns true). For example, you may have a list of\n",
    "ages and you want a new list of ages where each one is between 21 and 35. We want an\n",
    "implementation where, similar to the map function, we pass in a list and a function that contains\n",
    "within it a conditional statement."
   ]
  },
  {
   "cell_type": "code",
   "execution_count": null,
   "metadata": {
    "collapsed": true
   },
   "outputs": [],
   "source": []
  },
  {
   "cell_type": "markdown",
   "metadata": {},
   "source": [
    "# Solution"
   ]
  },
  {
   "cell_type": "code",
   "execution_count": null,
   "metadata": {
    "collapsed": true
   },
   "outputs": [],
   "source": [
    "def map(arr, fn):\n",
    "\n",
    "    result = []\n",
    "    \n",
    "    # apply the function to each element and store the result\n",
    "    for i in arr:\n",
    "        applied = fn(i)\n",
    "        result.append(applied)\n",
    "        \n",
    "    return result\n",
    "    \n",
    "# usage\n",
    "square = lambda x: x * x\n",
    "addZeros = lambda x: int(str(x) + '00')\n",
    "\n",
    "map([1, 2, 3, 4], square) # => [1, 4, 9, 16]\n",
    "map([1, 2, 3, 4], addZeros) # => [100, 200, 300, 400]"
   ]
  },
  {
   "cell_type": "code",
   "execution_count": null,
   "metadata": {
    "collapsed": true
   },
   "outputs": [],
   "source": [
    "def filter(arr, fn):\n",
    "    result = []\n",
    "\n",
    "    # pass the element to the function and check\n",
    "    # if the result comes back true\n",
    "    for i in arr:\n",
    "        check = fn(i)\n",
    "        \n",
    "        if check:\n",
    "            result.append(i)\n",
    "\n",
    "    return result\n",
    "\n",
    "# usage\n",
    "isPositive = lambda x: x > 0\n",
    "\n",
    "filter([-2, 4, 5, 8, -44, -6], isPositive); # => [4, 5, 8]"
   ]
  },
  {
   "cell_type": "markdown",
   "metadata": {},
   "source": [
    "# Remove Set of Characters from a String"
   ]
  },
  {
   "cell_type": "markdown",
   "metadata": {},
   "source": [
    "These types of challenges are very common for people who have recently learned how to code. The problem description is:\n",
    "\n",
    "*You are given an array of characters and a string S. Write a function to return the string S with all the\n",
    "characters from the array removed.*"
   ]
  },
  {
   "cell_type": "code",
   "execution_count": null,
   "metadata": {
    "collapsed": true
   },
   "outputs": [],
   "source": []
  },
  {
   "cell_type": "markdown",
   "metadata": {},
   "source": [
    "## Solution\n",
    "\n",
    "The first thing to notice is that we’ll need to loop through the entire string S and loop through the\n",
    "array of characters because we’ll need to find the characters to actually remove from the string.\n",
    "There are two ways to construct the loops:\n",
    "\n",
    "1. Loop through the array of characters and for each chracter, find all of the occurences in S and\n",
    "remove them.\n",
    "2. Loop through the string S and if the current character exists in the array of characters\n",
    "somewhere, remove it.\n",
    "\n",
    "We’re going to go with the second option because we can improve the algorithm by actually storing\n",
    "all of the characters in the array in a hash table. This will allow us to loop through the string S and\n",
    "determine if the current character needs to be removed by checking if it exists in the hash table.\n",
    "Remember from before, checking if an element exists in a hash table is done in constant time so the\n",
    "running time of our algorithm will be O(n) where n is the length of the string S plus some\n",
    "preprocessing where we loop through the array of characters and store them in a hash table."
   ]
  },
  {
   "cell_type": "code",
   "execution_count": null,
   "metadata": {
    "collapsed": true
   },
   "outputs": [],
   "source": [
    "def removeChars(arr, string):\n",
    "    \n",
    "    # store characters of arr in a hash table\n",
    "    hashTable = {}\n",
    "    \n",
    "    for c in arr:        \n",
    "        hashTable[c] = True\n",
    "        \n",
    "    # loop through the string and check if the character exists in\n",
    "    # the hash table, if so, do not add it to the result string\n",
    "    result = ''\n",
    "    for c in string:\n",
    "        if c not in hashTable:\n",
    "            result += c\n",
    "\n",
    "    return result\n",
    "\n",
    "# usage\n",
    "print removeChars(['h', 'e', 'w', 'o'], 'hello world') # => \"ll rld\""
   ]
  },
  {
   "cell_type": "markdown",
   "metadata": {},
   "source": [
    "# Check if Valid Number of Parenthesis"
   ]
  },
  {
   "cell_type": "markdown",
   "metadata": {},
   "source": [
    "This problem asks you to determine if there is a valid number of matching parenthsis in a string, or\n",
    "more formally:\n",
    "\n",
    "*You are given a string with the symbols ( and ) and you need to write a function that will determine if\n",
    "the parenthsis are correctly nested in the string which means every opening ( has a closing )*\n",
    "\n",
    "There are countless ways to actually nest parenthsis and have them be valid, for example:\n",
    "\n",
    "    ()\n",
    "    (())\n",
    "    ()()()\n",
    "    ((()()))\n",
    "\n",
    "Below are examples of some invalid matchings:\n",
    "\n",
    "    (()\n",
    "    ((((\n",
    "    ())()\n",
    "    ()()())"
   ]
  },
  {
   "cell_type": "code",
   "execution_count": null,
   "metadata": {
    "collapsed": true
   },
   "outputs": [],
   "source": []
  },
  {
   "cell_type": "markdown",
   "metadata": {},
   "source": [
    "## Solution\n",
    "\n",
    "The first thing to notice is that it doesn’t matter how many parenthesis we actually have, what\n",
    "matters is that every single opening parenthsis “(“ at some point has a closing parenthesis “).” What\n",
    "we can do to solve this challenge is to maintain a counter and every single time we encounter an\n",
    "opening symbol we add 1 to it. Then every time we encounter a closing symbol we remove 1. If all\n",
    "opening symbols have a matching symbol at some point in the string, the end result of the counter\n",
    "should be 0. If it is more or less we’ll know that all parenthesis aren’t properly matched. You can see\n",
    "that for the first 4 examples above, if we maintain a counter we will end up at 0 once we reach the\n",
    "end of the string."
   ]
  },
  {
   "cell_type": "code",
   "execution_count": null,
   "metadata": {
    "collapsed": true
   },
   "outputs": [],
   "source": [
    "def matchingParens(string):\n",
    "    \n",
    "    counter = 0\n",
    "    \n",
    "    for c in string:\n",
    "        if c == '(':\n",
    "            counter += 1r\n",
    "        elif c == ')':\n",
    "            counter -= 1\n",
    "\n",
    "    if counter == 0:\n",
    "        return True\n",
    "    else:\n",
    "        return False"
   ]
  },
  {
   "cell_type": "markdown",
   "metadata": {},
   "source": [
    "# First Non-Repeating Character"
   ]
  },
  {
   "cell_type": "markdown",
   "metadata": {},
   "source": [
    "For this challenge you are given a string and you should return the first character that is unique in the\n",
    "entire string. For example:\n",
    "\n",
    "If string is “hello henry” then the first non-repeating character is the letter “o” because\n",
    "the first three characters in the string appear multiple times."
   ]
  },
  {
   "cell_type": "code",
   "execution_count": null,
   "metadata": {
    "collapsed": true
   },
   "outputs": [],
   "source": []
  },
  {
   "cell_type": "markdown",
   "metadata": {},
   "source": [
    "## Solution\n",
    "\n",
    "A simple solution to this challenge is to loop through the string, and for each character, loop\n",
    "through the rest of the string and check if that character appears somewhere else. Then return the\n",
    "first character that does not appear anywhere in the string except the current location. This solution\n",
    "will run in O(n2) though because of the nested loop, so there is definitely room for improvement.\n",
    "\n",
    "We need to somehow store the letters and their frequencies in a data structure that’ll allow\n",
    "us to check how many times a specific character occurred. To solve this challenge, we’ll first loop\n",
    "through the string once and maintain a hash table that stores the count of each character. Then we’ll\n",
    "loop through the string again and return the first character we encounter that has a count of 1 in the\n",
    "hash table, meaning it occurs only once in the string. This algorithm will run in O(2n) because we are\n",
    "looping through the string twice, and this reduces to O(n) because we drop the constant,[1] which is\n",
    "much faster than the nested loop algorithm from above."
   ]
  },
  {
   "cell_type": "code",
   "execution_count": null,
   "metadata": {
    "collapsed": true
   },
   "outputs": [],
   "source": [
    "def firstNonrepChar(string):\n",
    "    hashTable = {}\n",
    "\n",
    "    # store each character in the hash table with\n",
    "    # the frequency of times it occurs\n",
    "    for c in string:\n",
    "        if c not in hashTable:\n",
    "            hashTable[c] = 1\n",
    "        else:\n",
    "            hashTable[c] += 1\n",
    "\n",
    "    # loop through string and return the first character\n",
    "    # with a count of 1 in the hash table\n",
    "    for c in string:\n",
    "        if hashTable[c] == 1:\n",
    "            return c\n",
    "\n",
    "    # return -1 if no unique character exists\n",
    "    return -1"
   ]
  },
  {
   "cell_type": "code",
   "execution_count": null,
   "metadata": {
    "collapsed": true
   },
   "outputs": [],
   "source": []
  },
  {
   "cell_type": "markdown",
   "metadata": {},
   "source": [
    "# Count Words that have at Least 3 Continuous Vowels"
   ]
  },
  {
   "cell_type": "markdown",
   "metadata": {},
   "source": [
    "This challenge will require us to take a string, separate it into words, and then loop through the words\n",
    "and count how many words have at least 3 vowels."
   ]
  },
  {
   "cell_type": "code",
   "execution_count": null,
   "metadata": {
    "collapsed": true
   },
   "outputs": [],
   "source": []
  },
  {
   "cell_type": "markdown",
   "metadata": {},
   "source": [
    "## Solution\n",
    "\n",
    "This will require us to first convert a string into an\n",
    "array of words, then loop through that array and for each word loop through its characters and\n",
    "determine how many vowels exist in it and whether or not they are all adjacent to each other. There\n",
    "are two ways we can count the number or vowels within a word:\n",
    "\n",
    "1. Loop through the string and maintain a counter.\n",
    "2. Perform a regular expression search that counts the vowels.\n",
    "\n",
    "We are going to go with the second method of using a regular expression (regex) to count the vowels\n",
    "in a word and determine whether they are continuous. I’ll leave solving this challenge via the first\n",
    "method as an exercise for the reader. The solution below splits the string into an array of words and\n",
    "then loops through that array applying a regex search on each word. A regex search words by trying\n",
    "to find a search pattern within a string. The search pattern we will be using is to search for a set of\n",
    "characters, the vowes in this case, and check whether at least 3 of them occur next to each other.\n",
    "\n",
    "[Background on regex](https://www.computerhope.com/jargon/r/regex.htm)"
   ]
  },
  {
   "cell_type": "code",
   "execution_count": null,
   "metadata": {
    "collapsed": true
   },
   "outputs": [],
   "source": [
    "import re\n",
    "\n",
    "def threeVowels(string):\n",
    "\n",
    "    # split string into array of words\n",
    "    arr = string.split(' ')\n",
    "    count = 0\n",
    "\n",
    "    # this is the pattern we will be searching for\n",
    "    # more on regex patterns here: http://bit.ly/RGnLh4\n",
    "    # loop through array of words\n",
    "    for word in arr:\n",
    "        if re.search(r'[aeiou]{3,}', word) != None:\n",
    "            count += 1\n",
    "    \n",
    "    return count"
   ]
  },
  {
   "cell_type": "markdown",
   "metadata": {},
   "source": [
    "# Remove All Adjacent Matching Characters"
   ]
  },
  {
   "cell_type": "markdown",
   "metadata": {},
   "source": [
    "This challenge asks you to remove all matching adjacent pairs of letters from a string and return the\n",
    "modified string. For example, if the string is “aaagykkok” then your program would return\n",
    "“agyok” because “aa” and “kk” had been removed."
   ]
  },
  {
   "cell_type": "code",
   "execution_count": null,
   "metadata": {
    "collapsed": true
   },
   "outputs": [],
   "source": []
  },
  {
   "cell_type": "markdown",
   "metadata": {},
   "source": [
    "## Solution\n",
    "\n",
    "The first thing to notice is that we can create a simple loop that checks each character in the\n",
    "string and checks if it is equal to the character right after it, if so, it skips both characters. It does this\n",
    "for every character with a special case added to check if the end of the string has been reached\n",
    "(because at the last character, we cannot check if it is equal to the next character because there is no\n",
    "next character once it reaches the end of the string)."
   ]
  },
  {
   "cell_type": "code",
   "execution_count": null,
   "metadata": {
    "collapsed": true
   },
   "outputs": [],
   "source": [
    "def removePairs(string):\n",
    "\n",
    "    # new string that will be returned\n",
    "    result = ''\n",
    "    i = 0\n",
    "    \n",
    "    # loop through entire string\n",
    "    while i < len(string):\n",
    "        \n",
    "        # if on last character\n",
    "        if i == len(string) - 1:\n",
    "            result += string[i]\n",
    "        \n",
    "        # characters are not equal then add to new string\n",
    "        elif string[i] != string[i + 1]:\n",
    "            result += string[i]\n",
    "        \n",
    "        # if adjacent characters are equal to each other\n",
    "        # skip the next character entirely\n",
    "        else:\n",
    "            i += 1\n",
    "        i += 1\n",
    "\n",
    "    return result"
   ]
  },
  {
   "cell_type": "markdown",
   "metadata": {},
   "source": [
    "# Find the Majority Element"
   ]
  },
  {
   "cell_type": "markdown",
   "metadata": {},
   "source": [
    "Finding the majority element in an array involves finding an element that appears strictly more than\n",
    "n/2 times where n is the size of the array. For example, in the array [1, 4, 5, 5, 5, 5] the\n",
    "element 5 appears 4 times and n/2 = 6/2 = 3, so the element 5 is the majority element. If on the other\n",
    "hand the array was [1, 4, 4, 5, 5] then the element 5 is not the majority element. There\n",
    "actually is no majority element because no element appears more than n/2 = 5/2 = 2 times."
   ]
  },
  {
   "cell_type": "code",
   "execution_count": null,
   "metadata": {
    "collapsed": true
   },
   "outputs": [],
   "source": []
  },
  {
   "cell_type": "markdown",
   "metadata": {},
   "source": [
    "## Solution\n",
    "\n",
    "To solve this challenge we can create a nested loop and in the outer loop go through each\n",
    "element, and then in the inner loop check all the other elements in the array and count the\n",
    "occurences of the current element. This would make the code very compact but the algorithm would\n",
    "run in O(n2) time because of the nested loop checking each of the n elements, and then in the inner\n",
    "loop checking them again: n * n = n2. There is a faster way to solve this problem and that is to use the\n",
    "Majority Vote Algorithm (http://bit.ly/1KVeJTk). It works the following way:\n",
    "\n",
    "1. Start with a candidate element that is empty and a count that is set to 0.\n",
    "2. For each element in the array we check it against the candidate element.\n",
    "\n",
    "    • If the candidate element is blank or the count is equal to 0, set the current element to be the candidate element and set the count to 1.\n",
    "\n",
    "    • If the current element equals the candidate element, increase the count by 1.\n",
    "\n",
    "    • If the current element does not equal the candidate element, decrease the count by 1.\n",
    "\n",
    "This algorithm will run in linear time, O(n), because it only loops through the whole array a single\n",
    "time maintaining two variables as it passes through."
   ]
  },
  {
   "cell_type": "code",
   "execution_count": null,
   "metadata": {
    "collapsed": true
   },
   "outputs": [],
   "source": [
    "import math\n",
    "\n",
    "def majorityElement(arr):\n",
    "\n",
    "    candidate = None\n",
    "    count = 0\n",
    "    \n",
    "    # 1. if candidate is None or count = 0 set candidate to the current element\n",
    "    # 2. if candidate matches current element we increase the count\n",
    "    # 3. if candidate does not match current element, decrease the count by 1\n",
    "    for i in range(0, len(arr)):\n",
    "        if candidate is None or count == 0:\n",
    "            candidate = arr[i]\n",
    "            count = 1\n",
    "        elif arr[i] == candidate:\n",
    "            count += 1\n",
    "        else:\n",
    "            count -= 1\n",
    "\n",
    "    # once we have a majority element we check\n",
    "    # to make sure it occurs more than n/2 times\n",
    "    count = 0\n",
    "    for el in arr:\n",
    "        if el == candidate:\n",
    "            count += 1\n",
    "\n",
    "    if count > math.floor(len(arr) / 2):\n",
    "        return candidate\n",
    "    else:\n",
    "        return None"
   ]
  },
  {
   "cell_type": "markdown",
   "metadata": {},
   "source": [
    "# Switching Light Bulbs Problem"
   ]
  },
  {
   "cell_type": "markdown",
   "metadata": {},
   "source": [
    "This problem has a lot of different variations, but the one we will cover here is the following: Imagine\n",
    "there are 100 light bulbs, labeled from 1 to 100, lined up all set to off initially. There are also 100\n",
    "people each numbered 1 to 100 as well. Person 1 will go through all the light bulbs and flip the switch\n",
    "turning all of them on. Then person number 2 will go through all the light bulbs and flip the switch on\n",
    "each 2nd element turning them off, namely: light bulbs #2, #4, #6, #8, etc. Then person 3 will go and\n",
    "do the same for the 3rd ligh bulb, 6th, 9th, etc. Then questions are usually asked about the light bulbs,\n",
    "for example:\n",
    "\n",
    "• How many light bulbs will be on after 100 people have gone through them?\n",
    "\n",
    "• What is the status of the Nth light bulb (34th, 62nd, etc.)? Is it on or off?\n",
    "\n",
    "• How many people need to go through the line of light bulbs until exactly K light bulbs are set\n",
    "to on?"
   ]
  },
  {
   "cell_type": "code",
   "execution_count": null,
   "metadata": {
    "collapsed": true
   },
   "outputs": [],
   "source": []
  },
  {
   "cell_type": "markdown",
   "metadata": {},
   "source": [
    "## Solution\n",
    "\n",
    "To answer any of these questions, we’ll write a function that goes through all N light bulbs and\n",
    "performs each operation for every person labeled from 1 to N. What we’ll do for this problem is\n",
    "setup an array of N elements all set to false, which will represent a light bulb in the off position. Then\n",
    "we will loop through every person from 1 to N, and within that loop create another loop that will\n",
    "multiply each person’s number by a number each time to change the following light bulbs:\n",
    "\n",
    "• For i = 1, change 1, 2, 3, 4, etc.\n",
    "\n",
    "• For i = 2, change 2, 4, 6, 8, etc.\n",
    "\n",
    "• For i = 3, change 3, 6, 9, 12, etc."
   ]
  },
  {
   "cell_type": "code",
   "execution_count": null,
   "metadata": {
    "collapsed": true
   },
   "outputs": [],
   "source": [
    "def lightBulbs(N):\n",
    "\n",
    "    # create N lightbulbs and set them to off\n",
    "    lightbulbs = [False for i in range(0, N)]\n",
    "\n",
    "    # each person i labeled from 1 to N sets each kth\n",
    "    # lightbulb on or off where k = 2*i, 3*i, etc.\n",
    "    for i in range(1, N + 1):\n",
    "        w = 1\n",
    "        k = w * i\n",
    "        \n",
    "        while k <= N:\n",
    "            lightbulbs[k - 1] = not lightbulbs[k - 1]\n",
    "            w += 1\n",
    "            k = w * i\n",
    "\n",
    "    return lightbulbs"
   ]
  },
  {
   "cell_type": "markdown",
   "metadata": {},
   "source": [
    "# List of Integers that Overlap in 2 Ranges"
   ]
  },
  {
   "cell_type": "markdown",
   "metadata": {},
   "source": [
    "For this problem you’ll need to find all the numbers that overlap between two ranges, for example:\n",
    "between the two ranges of [5, 20] and [17, 21] the overlapping integers are [17, 18, 19, 20]."
   ]
  },
  {
   "cell_type": "code",
   "execution_count": null,
   "metadata": {
    "collapsed": true
   },
   "outputs": [],
   "source": []
  },
  {
   "cell_type": "markdown",
   "metadata": {},
   "source": [
    "## Solution\n",
    "\n",
    "One way to solve this problem would be to create a list for each range and store each number within the\n",
    "respective lists. So for the above example, you would create two lists:\n",
    "\n",
    "    [5, 6, 7, 8, 9, 10, 11, 12, 13, 14, 15, 16, 17, 18, 19, 20]\n",
    "    [17, 18, 19, 20, 21]\n",
    "\n",
    "Then you would just loop through one of the lists, and for each element check if it exists\n",
    "somewhere in the second list using a built in array search function. This solution would work and\n",
    "require little code, but it is not an efficient way to solve this problem. One reason is because there\n",
    "isn’t really any point in actually creating the lists and taking up space with them, and the second\n",
    "reason is the running time of this algorithm would be about O(n2) because this function would have a\n",
    "nested loop. We can solve this problem in a more efficient way.\n",
    "\n",
    "We will simply loop from the start of range 1 to the end of range 1. Then we will check if each\n",
    "of the numbers within that range are greater than the beginning of range 2 and lesser than the end of\n",
    "range 2. This algorithm will therefore run in O(n) time where n represents the length of one of the\n",
    "ranges. This algorithm only performs a simple check within the loop, namely, whether some element\n",
    "is smaller and greater than some other number – no searching required which is what speeds up the\n",
    "algorithm."
   ]
  },
  {
   "cell_type": "code",
   "execution_count": null,
   "metadata": {
    "collapsed": true
   },
   "outputs": [],
   "source": [
    "def overlapping(range1, range2):\n",
    "\n",
    "    overlap = []\n",
    "    \n",
    "    # check whether each number within range 1\n",
    "    # is within the numbers in range 2\n",
    "    for i in range(range1[0], range1[1] + 1):\n",
    "        if i >= range2[0] and i <= range2[1]:\n",
    "            overlap.append(i)\n",
    "\n",
    "    return overlap"
   ]
  },
  {
   "cell_type": "markdown",
   "metadata": {},
   "source": [
    "# Return Mean, Median, and Mode of an Array"
   ]
  },
  {
   "cell_type": "markdown",
   "metadata": {},
   "source": [
    "This is more of a simpler question that doesn’t require too much complex code to solve. It simply\n",
    "requires you to do 3 things, calculcate the mean which is the average of all the numbers, the median\n",
    "which is the middle number when the array is sorted, and the mode which is the number that\n",
    "appears the most."
   ]
  },
  {
   "cell_type": "code",
   "execution_count": null,
   "metadata": {
    "collapsed": true
   },
   "outputs": [],
   "source": []
  },
  {
   "cell_type": "markdown",
   "metadata": {},
   "source": [
    "## Solution\n",
    "\n",
    "To calculcate the average we will simply add up all the numbers and divide by the length of\n",
    "the array. To calculcate the median we will first sort the array and then return the middle number.\n",
    "Finally, the mode will require some extra work, but to find the number that appears most often we\n",
    "will use a hash table to store the number of times each number occurs and we will return the one\n",
    "with the highest occurences."
   ]
  },
  {
   "cell_type": "code",
   "execution_count": null,
   "metadata": {
    "collapsed": true
   },
   "outputs": [],
   "source": [
    "def meanMedianMode(arr):\n",
    "\n",
    "    # to calculcate the mean we add up all the numbers\n",
    "    # and divide by the length\n",
    "    mean = sum(arr) / float(len(arr))\n",
    "\n",
    "    # to calculcate the median we need to sort the array\n",
    "    # and return the middle element\n",
    "    arr = sorted(arr)\n",
    "    median = arr[int(len(arr) / 2)]\n",
    "\n",
    "    # to get the mode we will store all the elements in a hash table\n",
    "    # and keep a count and also always maintain the largest count\n",
    "    mode = None\n",
    "    hashTable = {}\n",
    "    for i in arr:\n",
    "        if i in hashTable:\n",
    "            hashTable[i] += 1\n",
    "        else:\n",
    "            hashTable[i] = 1\n",
    "            \n",
    "        print(hashTable)\n",
    "\n",
    "        if mode is None or hashTable[i] > hashTable[mode]:\n",
    "            mode = i\n",
    "\n",
    "    return { 'mean': mean, 'median': median, 'mode': mode }"
   ]
  },
  {
   "cell_type": "markdown",
   "metadata": {},
   "source": [
    "# Encode Consonants within a String"
   ]
  },
  {
   "cell_type": "markdown",
   "metadata": {},
   "source": [
    "This challenge asks you to take a string composed of only lowercase letters and space characters, for\n",
    "example `“hello world”` and replace every consonant in the string with the next consontant in the\n",
    "alphabet. So in the above example, the output should be `“jemmo xosmf”` and you can see that we\n",
    "left every vowel in place and only changed the consonants. You should notice that the last letter\n",
    "changed was from d to f and not from d to e because e is a vowel."
   ]
  },
  {
   "cell_type": "code",
   "execution_count": null,
   "metadata": {
    "collapsed": true
   },
   "outputs": [],
   "source": []
  },
  {
   "cell_type": "markdown",
   "metadata": {},
   "source": [
    "## Solution\n",
    "\n",
    "The first thing that would be helpful for this challenge is some sort of listing of all the\n",
    "consonants which would allow us to easily change one letter to the other by just moving one place\n",
    "over in the array. Then to solve the challenge we would just loop through the string, and if a letter is\n",
    "not a vowel we would find that letter in the array of consonants, move one place over and replace\n",
    "the letter in the string with that new letter. This would be a solution to the challenge, but the running\n",
    "time involves both the length of the string n and the length of the consonant array m because we are\n",
    "looping through the string while also searching for a letter in the array each time. The running time\n",
    "still reduces to O(n) because the consonant array stays constant meaning it will never get shorter or\n",
    "longer because there is a set amount of constants in the alphabet. So this solution is pretty good, but\n",
    "we can actually do a bit better.\n",
    "\n",
    "To make this solution a bit faster we can actualy get rid of the consonant array altogether.\n",
    "This is because we can convert each letter as we go to its character code number, add 1 to it, and\n",
    "then convert this number back to a letter to get the next letter in the alphabet. Then we simply\n",
    "perform an extra check to make sure the new letter is not a vowel, but if so, simply add 1 more to its\n",
    "character code to get the next letter.\n",
    "\n",
    "Note: You can actually perform a modulo operation at some point in the code and therefore\n",
    "there will be no need for the special “z” character conditional at the beginning of the loop. I’ll leave\n",
    "this as an exercise for the reader."
   ]
  },
  {
   "cell_type": "code",
   "execution_count": null,
   "metadata": {
    "collapsed": true
   },
   "outputs": [],
   "source": [
    "def encodeConsonants(string):\n",
    "\n",
    "    result = ''\n",
    "    \n",
    "    # store an array of vowels for use later\n",
    "    vowels = ['a', 'e', 'i', 'o', 'u']\n",
    "\n",
    "    # loop through entire string\n",
    "    for i in string:\n",
    "\n",
    "        # special case for z\n",
    "        if i == 'z':\n",
    "            result += 'b'\n",
    "            break\n",
    "\n",
    "        # if letter is not a vowel or a space\n",
    "        elif i not in vowels and i != ' ':\n",
    "\n",
    "            # convert each letter to its character code\n",
    "            newCode = ord(i) + 1\n",
    "\n",
    "            # perform check to make sure new letter is not a vowel by seeing if\n",
    "            # the new letter exists in an array of vowels\n",
    "            if chr(newCode) in vowels:\n",
    "                newCode += 1\n",
    "\n",
    "            # get new letter and add to new string\n",
    "            result += chr(newCode)\n",
    "            \n",
    "        # otherwise character is a vowel or a space\n",
    "        else:\n",
    "            result += i\n",
    "\n",
    "    return result"
   ]
  },
  {
   "cell_type": "markdown",
   "metadata": {},
   "source": [
    "# Convert an Array of Strings into an Object"
   ]
  },
  {
   "cell_type": "markdown",
   "metadata": {},
   "source": [
    "This challenge doesn’t strictly have a single output like the previous challenges, rather this challenge\n",
    "focuses on you using certain data structures correctly. Imagine you have several users entering\n",
    "information through a form, and on the back-end you get the information as a comma separated\n",
    "string of information. The information the user will enter in the form is: Name, Email, Age, and\n",
    "Occupation all in that order. Each user’s piece of information will be separated by a comma, and each\n",
    "user will be separated by a space, but some pieces of information can be blank for a user (excluding\n",
    "the name), for example:\n",
    "\n",
    "    “Daniel,me@test.com,56,Coder John,,,Teacher Michael,mike@test.com,,”\n",
    "\n",
    "You can see above that all the information exists for Daniel, but email and age are missing for\n",
    "John, and age and occupation are missing for Michael. "
   ]
  },
  {
   "cell_type": "code",
   "execution_count": null,
   "metadata": {
    "collapsed": true
   },
   "outputs": [],
   "source": []
  },
  {
   "cell_type": "markdown",
   "metadata": {},
   "source": [
    "## Solution\n",
    "\n",
    "You should write a function that will take in\n",
    "this string of user information, and create an object (key-value mapping) where the key is the\n",
    "person’s name and the value will also be an object that stores the information of each user: email,\n",
    "age, and occupation. You can assume people’s names will be unique.\n",
    "\n",
    "To solve this challenge, we’ll split the string (at the space character) into an array of different\n",
    "people, and then for each person we’ll split the information (at the comma character). Then we will\n",
    "create a new user object and throw it into the global object that will store all the users.\n"
   ]
  },
  {
   "cell_type": "code",
   "execution_count": null,
   "metadata": {
    "collapsed": true
   },
   "outputs": [],
   "source": [
    "def convert(string):\n",
    "\n",
    "    # create empty object\n",
    "    obj = {}\n",
    "    \n",
    "    # split the string at each person\n",
    "    people = string.split(' ')\n",
    "    \n",
    "    # loop through all people\n",
    "    for p in people:\n",
    "        \n",
    "        # split information for each person\n",
    "        info = p.split(',')\n",
    "        \n",
    "        # store this information in the user object\n",
    "        userObj = {\n",
    "            'email': info[1] or None,\n",
    "            'age': int(info[2]) if info[2] else None,\n",
    "            'occupation': info[3] or None\n",
    "        }\n",
    "\n",
    "        # store key-value in object of users now\n",
    "        obj[info[0]] = userObj\n",
    "\n",
    "    return obj\n",
    "\n",
    "# usage\n",
    "s = \"Daniel,me@test.com,56,Coder John,,,Teacher Michael,mike@test.com,,\"\n",
    "people = convert(s)\n",
    "\n",
    "# testing\n",
    "people['Daniel']['age'] # => 56\n",
    "people['Michael']['occupation'] # => None"
   ]
  },
  {
   "cell_type": "markdown",
   "metadata": {},
   "source": [
    "# Three Sum Problem"
   ]
  },
  {
   "cell_type": "markdown",
   "metadata": {},
   "source": [
    "The three sum problem is very similar to the two sum problem we covered at the beginning of the\n",
    "chapter, except the problem statement now naturally changes to 3 elements instead of two:\n",
    "\n",
    "*You are given an array and some number S. Determine if any three numbers within the array sum to S.*"
   ]
  },
  {
   "cell_type": "code",
   "execution_count": null,
   "metadata": {
    "collapsed": true
   },
   "outputs": [],
   "source": []
  },
  {
   "cell_type": "markdown",
   "metadata": {},
   "source": [
    "## Solution\n",
    "\n",
    "As with the nested loop solution to the two sum problem, we can create a set of three nested loops\n",
    "that checks if any three elements in the array sum to S. The running time of this algorithm is O(n^3)\n",
    "because of the nested loops. We can solve this problem more efficiently though with some\n",
    "modifications.\n",
    "\n",
    "First we sort the array into ascending order. We can use a built-in sort function which will run in\n",
    "O(nlogn). Then we loop through each element in the array and for each of the elements we\n",
    "maintain two pointers (or indices), one from the (current position + 1) and the second pointer starting\n",
    "from the end of the array. Then we check to see if these 3 elements sum to S. One of 3 things will be\n",
    "true:\n",
    "\n",
    "1. If the current element plus the 2 other elements is greater than S, we decrease the pointer at\n",
    "the end of the array at 1.\n",
    "\n",
    "2. If the current element plus the other 2 elements is less than S, we increase the pointer at the\n",
    "beginning by 1.\n",
    "\n",
    "3. If the pointers end up meeting, then we know we cannot add 2 elements plus the current\n",
    "element to sum to S. We move on to the next element in the array and reset the pointers.\n",
    "\n",
    "This algorithm needs to loop through every single element in the array, and for each element in the\n",
    "worst case we will loop through all the other elements until the pointers end up at the same point.\n",
    "This algorithm therefore runs in O(nlogn) + O(n^2) which reduces to O(n^2)."
   ]
  },
  {
   "cell_type": "code",
   "execution_count": null,
   "metadata": {
    "collapsed": true
   },
   "outputs": [],
   "source": [
    "def threeSum(arr, S):\n",
    "\n",
    "    arr = sorted(arr)\n",
    "    \n",
    "    for i in range(0, len(arr) - 2):\n",
    "        \n",
    "        # start two pointers, one from the current position + 1\n",
    "        # and the other at the end of the array\n",
    "        ptr_start, ptr_end = i + 1, len(arr) - 1\n",
    "        \n",
    "        while ptr_start < ptr_end:\n",
    "            add = arr[i] + arr[ptr_start] + arr[ptr_end]\n",
    "\n",
    "        # if we find a sum\n",
    "        if add == S:\n",
    "            return True\n",
    "        # if the sum < S\n",
    "        elif add < S:\n",
    "            ptr_start += 1\n",
    "        # if the sum > S\n",
    "        else:\n",
    "            ptr_end -= 1\n",
    "\n",
    "    return False"
   ]
  }
 ],
 "metadata": {
  "anaconda-cloud": {},
  "kernelspec": {
   "display_name": "Python 3",
   "language": "python",
   "name": "python3"
  },
  "language_info": {
   "codemirror_mode": {
    "name": "ipython",
    "version": 3
   },
   "file_extension": ".py",
   "mimetype": "text/x-python",
   "name": "python",
   "nbconvert_exporter": "python",
   "pygments_lexer": "ipython3",
   "version": "3.7.3"
  }
 },
 "nbformat": 4,
 "nbformat_minor": 1
}
