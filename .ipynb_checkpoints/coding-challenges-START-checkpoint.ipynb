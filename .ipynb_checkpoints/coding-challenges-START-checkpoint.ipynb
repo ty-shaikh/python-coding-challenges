{
 "cells": [
  {
   "cell_type": "markdown",
   "metadata": {},
   "source": [
    "# Coding Challenges"
   ]
  },
  {
   "cell_type": "markdown",
   "metadata": {},
   "source": [
    "<hr>"
   ]
  },
  {
   "cell_type": "markdown",
   "metadata": {},
   "source": [
    "## Fizz Buzz\n",
    "\n",
    "We will start off with the infamous Fizz buzz challenge. This challenge has been used frequently in the\n",
    "past as an initial coding challenge to filter out people who cannot write a simple solution. The general\n",
    "problem is:\n",
    "\n",
    "*Print out all the numbers from 1 to 100. But for every number divisible by 3 print replace it with the\n",
    "word “Fizz,” for any number divisible by 5 replace it with the word “Buzz” and for a number divisible\n",
    "by both 3 and 5 replace it with the word “FizzBuzz.”\n",
    "So your program should output:*\n",
    "\n",
    "    1\n",
    "    2\n",
    "    Fizz\n",
    "    4\n",
    "    Buzz\n",
    "    Fizz\n",
    "    7\n",
    "    .\n",
    "    .\n",
    "    .\n"
   ]
  },
  {
   "cell_type": "code",
   "execution_count": null,
   "metadata": {
    "collapsed": true
   },
   "outputs": [],
   "source": []
  },
  {
   "cell_type": "markdown",
   "metadata": {},
   "source": [
    "# Two Sum Problem"
   ]
  },
  {
   "cell_type": "markdown",
   "metadata": {},
   "source": [
    "The two sum problem is a classic coding interview question asked at both coding bootcamps and job\n",
    "interviews. The problem is as follows:\n",
    "\n",
    "*You are given an array and some number S. Determine if any two numbers within the array sum to S.*"
   ]
  },
  {
   "cell_type": "code",
   "execution_count": null,
   "metadata": {
    "collapsed": true
   },
   "outputs": [],
   "source": []
  },
  {
   "cell_type": "markdown",
   "metadata": {},
   "source": [
    "# Calculate the Sum of Nested Array"
   ]
  },
  {
   "cell_type": "markdown",
   "metadata": {},
   "source": [
    "This problem asks you to sum up all of the numbers within an array, but the array may also contains\n",
    "other arrays with numbers. This is what we call a nested array. For example:\n",
    "\n",
    "    [1, 1, 1, [3, 4, [8]], [5]]\n",
    "\n",
    "is a nested array and summing all the elements should produce 23."
   ]
  },
  {
   "cell_type": "code",
   "execution_count": null,
   "metadata": {
    "collapsed": true
   },
   "outputs": [],
   "source": []
  },
  {
   "cell_type": "markdown",
   "metadata": {},
   "source": [
    "# Calculate the Angle on a Clock"
   ]
  },
  {
   "cell_type": "markdown",
   "metadata": {},
   "source": [
    "This problem asks you to determine the angle between the to hands on a clock. For example, if the\n",
    "minute hand is on the 3 and the hour hand is on the 12, then this forms a 90 degree angle. If the hour\n",
    "hand is slightly past the 2 and the minute hand is on the 4, then the angle formed between the hands\n",
    "is 50 degrees. Check out the [wiki article](https://en.wikipedia.org/wiki/Clock_angle_problem) for a more detailed description."
   ]
  },
  {
   "cell_type": "code",
   "execution_count": null,
   "metadata": {
    "collapsed": true
   },
   "outputs": [],
   "source": []
  },
  {
   "cell_type": "markdown",
   "metadata": {},
   "source": [
    "# Determine if N is a Prime Number"
   ]
  },
  {
   "cell_type": "markdown",
   "metadata": {},
   "source": [
    "This is a classic coding questins that asks you to write a program to determine whether or not some\n",
    "input N is a prime number. A prime number is a number that is divisible only by 1 and itself. The first\n",
    "few prime numbers are: 2, 3, 5, 7, 11, 17, …"
   ]
  },
  {
   "cell_type": "code",
   "execution_count": null,
   "metadata": {
    "collapsed": true
   },
   "outputs": [],
   "source": []
  },
  {
   "cell_type": "markdown",
   "metadata": {},
   "source": [
    "# Implement Map and Filter"
   ]
  },
  {
   "cell_type": "markdown",
   "metadata": {},
   "source": [
    "Map and filter are common functional programming methods that you’ve most likely used when\n",
    "coding. They are both functions that take in a list, perform some operation on that list without\n",
    "changing the original list, and then return a new lists. The functions do not change any other variables\n",
    "and do not touch anything else except those lists they were given. JavaScript, Python, and Ruby all\n",
    "have their own built-in versions of these functions, but we are going to impement our own.\n",
    "\n",
    "**Map** works by taking a list and a function, and it applies the function to each element in the list and\n",
    "returns a new list. For example, you may want to square every number in an array or append a string\n",
    "to every element in an array. We want an implementation where we can pass in two parameters, one\n",
    "being the array and the second being some function that will be mapped onto every element.\n",
    "\n",
    "**Filter** works by taking a list and a conditional statement, and it returns a new list where every\n",
    "element in the original list passes the conditional (returns true). For example, you may have a list of\n",
    "ages and you want a new list of ages where each one is between 21 and 35. We want an\n",
    "implementation where, similar to the map function, we pass in a list and a function that contains\n",
    "within it a conditional statement."
   ]
  },
  {
   "cell_type": "code",
   "execution_count": null,
   "metadata": {
    "collapsed": true
   },
   "outputs": [],
   "source": []
  },
  {
   "cell_type": "markdown",
   "metadata": {},
   "source": [
    "# Remove Set of Characters from a String"
   ]
  },
  {
   "cell_type": "markdown",
   "metadata": {},
   "source": [
    "These types of challenges are very common for people who have recently learned how to code. The problem description is:\n",
    "\n",
    "*You are given an array of characters and a string S. Write a function to return the string S with all the\n",
    "characters from the array removed.*"
   ]
  },
  {
   "cell_type": "code",
   "execution_count": null,
   "metadata": {
    "collapsed": true
   },
   "outputs": [],
   "source": []
  },
  {
   "cell_type": "markdown",
   "metadata": {},
   "source": [
    "# Check if Valid Number of Parenthesis"
   ]
  },
  {
   "cell_type": "markdown",
   "metadata": {},
   "source": [
    "This problem asks you to determine if there is a valid number of matching parenthsis in a string, or\n",
    "more formally:\n",
    "\n",
    "*You are given a string with the symbols ( and ) and you need to write a function that will determine if\n",
    "the parenthsis are correctly nested in the string which means every opening ( has a closing )*\n",
    "\n",
    "There are countless ways to actually nest parenthsis and have them be valid, for example:\n",
    "\n",
    "    ()\n",
    "    (())\n",
    "    ()()()\n",
    "    ((()()))\n",
    "\n",
    "Below are examples of some invalid matchings:\n",
    "\n",
    "    (()\n",
    "    ((((\n",
    "    ())()\n",
    "    ()()())"
   ]
  },
  {
   "cell_type": "code",
   "execution_count": null,
   "metadata": {
    "collapsed": true
   },
   "outputs": [],
   "source": []
  },
  {
   "cell_type": "markdown",
   "metadata": {},
   "source": [
    "# First Non-Repeating Character"
   ]
  },
  {
   "cell_type": "markdown",
   "metadata": {},
   "source": [
    "For this challenge you are given a string and you should return the first character that is unique in the\n",
    "entire string. For example:\n",
    "\n",
    "If string is “hello henry” then the first non-repeating character is the letter “o” because\n",
    "the first three characters in the string appear multiple times."
   ]
  },
  {
   "cell_type": "code",
   "execution_count": null,
   "metadata": {
    "collapsed": true
   },
   "outputs": [],
   "source": []
  },
  {
   "cell_type": "markdown",
   "metadata": {},
   "source": [
    "# Count Words that have at Least 3 Continuous Vowels"
   ]
  },
  {
   "cell_type": "markdown",
   "metadata": {},
   "source": [
    "This challenge will require us to take a string, separate it into words, and then loop through the words\n",
    "and count how many words have at least 3 vowels."
   ]
  },
  {
   "cell_type": "code",
   "execution_count": null,
   "metadata": {
    "collapsed": true
   },
   "outputs": [],
   "source": []
  },
  {
   "cell_type": "markdown",
   "metadata": {},
   "source": [
    "# Remove All Adjacent Matching Characters"
   ]
  },
  {
   "cell_type": "markdown",
   "metadata": {},
   "source": [
    "This challenge asks you to remove all matching adjacent pairs of letters from a string and return the\n",
    "modified string. For example, if the string is “aaagykkok” then your program would return\n",
    "“agyok” because “aa” and “kk” had been removed."
   ]
  },
  {
   "cell_type": "code",
   "execution_count": null,
   "metadata": {
    "collapsed": true
   },
   "outputs": [],
   "source": []
  },
  {
   "cell_type": "markdown",
   "metadata": {},
   "source": [
    "# Find the Majority Element"
   ]
  },
  {
   "cell_type": "markdown",
   "metadata": {},
   "source": [
    "Finding the majority element in an array involves finding an element that appears strictly more than\n",
    "n/2 times where n is the size of the array. For example, in the array [1, 4, 5, 5, 5, 5] the\n",
    "element 5 appears 4 times and n/2 = 6/2 = 3, so the element 5 is the majority element. If on the other\n",
    "hand the array was [1, 4, 4, 5, 5] then the element 5 is not the majority element. There\n",
    "actually is no majority element because no element appears more than n/2 = 5/2 = 2 times."
   ]
  },
  {
   "cell_type": "code",
   "execution_count": null,
   "metadata": {
    "collapsed": true
   },
   "outputs": [],
   "source": []
  },
  {
   "cell_type": "markdown",
   "metadata": {},
   "source": [
    "# Switching Light Bulbs Problem"
   ]
  },
  {
   "cell_type": "markdown",
   "metadata": {},
   "source": [
    "This problem has a lot of different variations, but the one we will cover here is the following: Imagine\n",
    "there are 100 light bulbs, labeled from 1 to 100, lined up all set to off initially. There are also 100\n",
    "people each numbered 1 to 100 as well. Person 1 will go through all the light bulbs and flip the switch\n",
    "turning all of them on. Then person number 2 will go through all the light bulbs and flip the switch on\n",
    "each 2nd element turning them off, namely: light bulbs #2, #4, #6, #8, etc. Then person 3 will go and\n",
    "do the same for the 3rd ligh bulb, 6th, 9th, etc. Then questions are usually asked about the light bulbs,\n",
    "for example:\n",
    "\n",
    "• How many light bulbs will be on after 100 people have gone through them?\n",
    "\n",
    "• What is the status of the Nth light bulb (34th, 62nd, etc.)? Is it on or off?\n",
    "\n",
    "• How many people need to go through the line of light bulbs until exactly K light bulbs are set\n",
    "to on?"
   ]
  },
  {
   "cell_type": "code",
   "execution_count": null,
   "metadata": {
    "collapsed": true
   },
   "outputs": [],
   "source": []
  },
  {
   "cell_type": "markdown",
   "metadata": {},
   "source": [
    "# List of Integers that Overlap in 2 Ranges"
   ]
  },
  {
   "cell_type": "markdown",
   "metadata": {},
   "source": [
    "For this problem you’ll need to find all the numbers that overlap between two ranges, for example:\n",
    "between the two ranges of [5, 20] and [17, 21] the overlapping integers are [17, 18, 19, 20]."
   ]
  },
  {
   "cell_type": "code",
   "execution_count": null,
   "metadata": {
    "collapsed": true
   },
   "outputs": [],
   "source": []
  },
  {
   "cell_type": "markdown",
   "metadata": {},
   "source": [
    "# Return Mean, Median, and Mode of an Array"
   ]
  },
  {
   "cell_type": "markdown",
   "metadata": {},
   "source": [
    "This is more of a simpler question that doesn’t require too much complex code to solve. It simply\n",
    "requires you to do 3 things, calculcate the mean which is the average of all the numbers, the median\n",
    "which is the middle number when the array is sorted, and the mode which is the number that\n",
    "appears the most."
   ]
  },
  {
   "cell_type": "code",
   "execution_count": null,
   "metadata": {
    "collapsed": true
   },
   "outputs": [],
   "source": []
  },
  {
   "cell_type": "markdown",
   "metadata": {},
   "source": [
    "# Encode Consonants within a String"
   ]
  },
  {
   "cell_type": "markdown",
   "metadata": {},
   "source": [
    "This challenge asks you to take a string composed of only lowercase letters and space characters, for\n",
    "example `“hello world”` and replace every consonant in the string with the next consontant in the\n",
    "alphabet. So in the above example, the output should be `“jemmo xosmf”` and you can see that we\n",
    "left every vowel in place and only changed the consonants. You should notice that the last letter\n",
    "changed was from d to f and not from d to e because e is a vowel."
   ]
  },
  {
   "cell_type": "code",
   "execution_count": null,
   "metadata": {
    "collapsed": true
   },
   "outputs": [],
   "source": []
  },
  {
   "cell_type": "markdown",
   "metadata": {},
   "source": [
    "# Convert an Array of Strings into an Object"
   ]
  },
  {
   "cell_type": "markdown",
   "metadata": {},
   "source": [
    "This challenge doesn’t strictly have a single output like the previous challenges, rather this challenge\n",
    "focuses on you using certain data structures correctly. Imagine you have several users entering\n",
    "information through a form, and on the back-end you get the information as a comma separated\n",
    "string of information. The information the user will enter in the form is: Name, Email, Age, and\n",
    "Occupation all in that order. Each user’s piece of information will be separated by a comma, and each\n",
    "user will be separated by a space, but some pieces of information can be blank for a user (excluding\n",
    "the name), for example:\n",
    "\n",
    "    “Daniel,me@test.com,56,Coder John,,,Teacher Michael,mike@test.com,,”\n",
    "\n",
    "You can see above that all the information exists for Daniel, but email and age are missing for\n",
    "John, and age and occupation are missing for Michael. "
   ]
  },
  {
   "cell_type": "code",
   "execution_count": null,
   "metadata": {
    "collapsed": true
   },
   "outputs": [],
   "source": []
  },
  {
   "cell_type": "markdown",
   "metadata": {},
   "source": [
    "# Three Sum Problem"
   ]
  },
  {
   "cell_type": "markdown",
   "metadata": {},
   "source": [
    "The three sum problem is very similar to the two sum problem we covered at the beginning of the\n",
    "chapter, except the problem statement now naturally changes to 3 elements instead of two:\n",
    "\n",
    "*You are given an array and some number S. Determine if any three numbers within the array sum to S.*"
   ]
  },
  {
   "cell_type": "code",
   "execution_count": null,
   "metadata": {
    "collapsed": true
   },
   "outputs": [],
   "source": []
  }
 ],
 "metadata": {
  "anaconda-cloud": {},
  "kernelspec": {
   "display_name": "Python 3",
   "language": "python",
   "name": "python3"
  },
  "language_info": {
   "codemirror_mode": {
    "name": "ipython",
    "version": 3
   },
   "file_extension": ".py",
   "mimetype": "text/x-python",
   "name": "python",
   "nbconvert_exporter": "python",
   "pygments_lexer": "ipython3",
   "version": "3.7.3"
  }
 },
 "nbformat": 4,
 "nbformat_minor": 1
}
